{
 "nbformat": 4,
 "nbformat_minor": 2,
 "metadata": {
  "language_info": {
   "name": "python",
   "codemirror_mode": {
    "name": "ipython",
    "version": 3
   }
  },
  "orig_nbformat": 2,
  "file_extension": ".py",
  "mimetype": "text/x-python",
  "name": "python",
  "npconvert_exporter": "python",
  "pygments_lexer": "ipython3",
  "version": 3
 },
 "cells": [
  {
   "cell_type": "code",
   "execution_count": null,
   "metadata": {},
   "outputs": [],
   "source": [
    "import glob\n",
    "import json\n",
    "label_paths = glob.glob('train/*.json')"
   ]
  },
  {
   "cell_type": "code",
   "execution_count": null,
   "metadata": {},
   "outputs": [],
   "source": [
    "label_classes_nums = {}\n",
    "for label_path in label_paths:\n",
    "    with open(label_path,'r') as f:\n",
    "        labels = json.load(f)\n",
    "       \n",
    "    for label in labels:\n",
    "        class_name = label['class']\n",
    "        if class_name not in label_classes_nums.keys():\n",
    "            label_classes_nums[class_name] = 1\n",
    "            continue\n",
    "        label_classes_nums[class_name] += 1\n",
    "print('各个类的数量')\n",
    "for class_name in label_classes_nums.keys():\n",
    "    print(class_name,':',label_classes_nums[class_name])"
   ]
  },
  {
   "cell_type": "code",
   "execution_count": null,
   "metadata": {},
   "outputs": [],
   "source": [
    "small_object_num = 0\n",
    "medium_object_num = 0\n",
    "large_object_num = 0\n",
    "large_area=[]\n",
    "for label_path in label_paths:\n",
    "    with open(label_path,'r') as f:\n",
    "        labels = json.load(f)\n",
    "    \n",
    "    for label in labels:\n",
    "        class_name = label['class']\n",
    "        if class_name == 'Candida':\n",
    "            area = label['w']*label['h']\n",
    "            if area<500*500:\n",
    "                small_object_num+=1\n",
    "            elif area>=500*500 and area<1000*1000:\n",
    "                medium_object_num+=1\n",
    "            elif area>=1000*1000:\n",
    "                large_area.append(area)\n",
    "                large_object_num+=1\n",
    "print('small(<500*500):%d\\nmedium(500*500~1000*1000):%d\\nlarge(>1000*1000):%d'%(small_object_num,medium_object_num,large_object_num))"
   ]
  },
  {
   "cell_type": "code",
   "execution_count": null,
   "metadata": {},
   "outputs": [],
   "source": [
    "import glob\n",
    "import json\n",
    "label_paths = glob.glob('train/*.json')\n",
    "\n",
    "for label_path in label_paths:\n",
    "    with open(label_path,'r') as f:\n",
    "        labels = json.load(f)\n",
    "    \n",
    "    for label in labels:\n",
    "        class_name = label['class']\n",
    "        if class_name != 'roi':\n",
    "            w = label['w']\n",
    "            h = label['h']\n",
    "            if w>1000 and h>1000:\n",
    "                wh_large_num+=1\n",
    "            elif w>1000 and h<1000:\n",
    "                w_large_num+=1\n",
    "            elif w<1000 and h>1000:\n",
    "                h_large_num+=1\n",
    "                \n",
    "large_bbox_num = wh_large_num + w_large_num + h_large_num\n",
    "print('w>1000 and h>1000:%d'%wh_large_num)\n",
    "print('w>1000 and h<1000:%d'%w_large_num)\n",
    "print('w<1000 and h>1000:%d'%h_large_num)\n",
    "print('total large bbox num:%d'%large_bbox_num)\n",
    "\n",
    "import matplotlib.pyplot as plt\n",
    "\n",
    "fig = plt.figure(figsize=(18,6))\n",
    "plt.hist(large_area)\n",
    "plt.show()"
   ]
  },
  {
   "cell_type": "code",
   "execution_count": null,
   "metadata": {},
   "outputs": [],
   "source": [
    "import numpy as np\n",
    "label_classes_areas = {}\n",
    "for label_path in label_paths:\n",
    "    with open(label_path,'r') as f:\n",
    "        labels = json.load(f)\n",
    "        \n",
    "    for label in labels:\n",
    "        class_name = label['class']\n",
    "        if class_name not in label_classes_areas.keys():\n",
    "            label_classes_areas[class_name] = []\n",
    "        label_classes_areas[class_name].append([label['w'],label['h'],label['w']*label['h']])\n",
    "\n",
    "print('各个类面积的情况')\n",
    "for class_name in label_classes_areas.keys():\n",
    "    area_array = np.array(label_classes_areas[class_name])\n",
    "    max_index = np.argmax(area_array[:,2])\n",
    "    max_area = area_array[max_index]\n",
    "    min_index = np.argmin(area_array[:,2])\n",
    "    min_area = area_array[min_index]\n",
    "    mean_area  = np.mean(area_array,axis=0)\n",
    "    print(class_name,':')\n",
    "    print('\\tmean area:{},w:{},h:{}'.format(mean_area[2],mean_area[0],mean_area[1]))\n",
    "    print('\\tmax area:{},w:{},h:{}'.format(max_area[2],max_area[0],max_area[1]))\n",
    "    print('\\tmin area:{},w:{},h:{}'.format(min_area[2],min_area[0],min_area[1]))"
   ]
  },
  {
   "cell_type": "code",
   "execution_count": null,
   "metadata": {},
   "outputs": [],
   "source": [
    "label_oversize_nums = {}\n",
    "for label_path in label_paths:\n",
    "    with open(label_path,'r') as f:\n",
    "        labels = json.load(f)\n",
    "        \n",
    "    for label in labels:\n",
    "        class_name,w,h = label['class'],label['w'],label['h']\n",
    "        if class_name not in label_oversize_nums.keys():\n",
    "            label_oversize_nums[class_name] = 0\n",
    "        if w>1000 or h>1000:\n",
    "            label_oversize_nums[class_name] += 1\n",
    "        \n",
    "print('各个类高或宽超过1000的情况')\n",
    "for class_name in label_oversize_nums.keys():\n",
    "    print(class_name,':',label_oversize_nums[class_name])"
   ]
  },
  {
   "cell_type": "code",
   "execution_count": null,
   "metadata": {},
   "outputs": [],
   "source": [
    "label_oversize_ratio = {}\n",
    "print('各个类高或宽超过1000所占的比例')\n",
    "for class_name in label_classes_nums.keys():\n",
    "    label_oversize_ratio[class_name] = label_oversize_nums[class_name]/label_classes_nums[class_name]\n",
    "    print(class_name,':',label_oversize_ratio[class_name])"
   ]
  },
  {
   "cell_type": "code",
   "execution_count": null,
   "metadata": {},
   "outputs": [],
   "source": [
    "train_label_paths = glob.glob('Train/label/*.json')\n",
    "train_label_classes_nums = {}\n",
    "for label_path in train_label_paths:\n",
    "    with open(label_path,'r') as f:\n",
    "        labels = json.load(f)\n",
    "       \n",
    "    for label in labels:\n",
    "        class_name = label['class']\n",
    "        if class_name not in train_label_classes_nums.keys():\n",
    "            train_label_classes_nums[class_name] = 1\n",
    "            continue\n",
    "        train_label_classes_nums[class_name] += 1\n",
    "print('各个类的数量')\n",
    "for class_name in train_label_classes_nums.keys():\n",
    "    print(class_name,':',train_label_classes_nums[class_name])"
   ]
  },
  {
   "cell_type": "code",
   "execution_count": null,
   "metadata": {},
   "outputs": [],
   "source": [
    "train_labels = []\n",
    "for label_path in train_label_paths:\n",
    "    with open(label_path,'r') as f:\n",
    "        train_labels += json.load(f)"
   ]
  },
  {
   "cell_type": "code",
   "execution_count": null,
   "metadata": {},
   "outputs": [],
   "source": [
    "train_label_classes_areas = {}\n",
    "for label in train_labels: \n",
    "    class_name = label['class']\n",
    "    if class_name not in train_label_classes_areas.keys():\n",
    "        train_label_classes_areas[class_name] = []\n",
    "    train_label_classes_areas[class_name].append([label['w'],label['h'],label['w']*label['h']])\n",
    "\n",
    "print('各个类面积的情况')\n",
    "for class_name in train_label_classes_areas.keys():\n",
    "    area_array = np.array(train_label_classes_areas[class_name])\n",
    "    max_index = np.argmax(area_array[:,2])\n",
    "    max_area = area_array[max_index]\n",
    "    min_index = np.argmin(area_array[:,2])\n",
    "    min_area = area_array[min_index]\n",
    "    mean_area  = np.mean(area_array,axis=0)\n",
    "    print(class_name,':')\n",
    "    print('\\tmean area:{:.2f},w:{:.2f},h:{:.2f}'.format(mean_area[2],mean_area[0],mean_area[1]))\n",
    "    print('\\tmax area:{},w:{},h:{}'.format(max_area[2],max_area[0],max_area[1]))\n",
    "    print('\\tmin area:{},w:{},h:{}'.format(min_area[2],min_area[0],min_area[1]))"
   ]
  },
  {
   "cell_type": "code",
   "execution_count": null,
   "metadata": {},
   "outputs": [],
   "source": [
    "positive_nums = 0\n",
    "negative_nums = 0\n",
    "label_paths = glob.glob('Train/label/*.json')\n",
    "for label_path in label_paths:\n",
    "    with open(label_path,'r') as f:\n",
    "        labels = json.load(f)\n",
    "    if len(labels)==0:\n",
    "        negative_nums += 1\n",
    "    else:\n",
    "        positive_nums += 1\n",
    "print('正负样本数量对比')\n",
    "print('正样本数量：',positive_nums)\n",
    "print('负样本数量：',negative_nums)\n",
    "print('正负样本数量比(正/负)',positive_nums/negative_nums)"
   ]
  }
 ]
}